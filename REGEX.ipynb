{
 "cells": [
  {
   "cell_type": "markdown",
   "metadata": {},
   "source": [
    "\\ - Pega qualquer coisa\n",
    "\n",
    ". - O ponto pega qualquer caractere menos o \\n\n",
    "\n",
    "^ - Representa o começo da string\n",
    "\n",
    "$ - Representa o fim da string\n",
    "\n",
    "\\w - Pega tudo que for alfanumérico\n",
    "\n",
    "\\W - Pega tudo que não for alfanumérico\n",
    "\n",
    "\\s - Pega caractere vazio\n",
    "\n",
    "\\S - Pega caractere NÃO vazio\n",
    "\n",
    "\\d - Pega número de 0-9\n",
    "\n",
    "\\D - Pega o que não é número de 0-9\n",
    "\n",
    "'+' - Pega o que se repete uma ou mais vezes\n",
    "\n",
    "'*' - Pega o que se repete zero ou mais vezes\n",
    "\n",
    "'?' - Pega o que se repete zero ou uma vez\n",
    "\n",
    "O colchetes é usado para localizar elementos:\n",
    "\n",
    "[] - Dentro dos colchetes vai o caractere que deseja localizar\n",
    "\n",
    "[^0] - Localiza tudo que é diferente de 0\n",
    "\n",
    "[0] - Localiza todos os números 0\n",
    "\n",
    "[02] - Localiza todos os números 0 ou 2\n",
    "\n",
    "[0-9] - Localiza todos os números entre 0 e 9\n",
    "\n",
    "[0][0] - Localiza todas as expressões = 00\n",
    "\n",
    "[0]{2} - Localiza onde tem duas ocorrências do caractere 0\n",
    "\n",
    "[0-9]{6} - Localiza os 6 primeiros dígitos entre 0 e 9\n",
    "\n",
    "[0-9]{6}$ - Localiza os 6 últimos dígitos entre 0 e 9 por causa do cifrão\n",
    "\n",
    "^[0-9]{6}$ - Estabelece um limite de 6 caracteres em decorrência do ^ que estabelece o começo da linha e cifrão o final\n",
    "\n",
    "[a-z] - Qualquer letra entre a e z"
   ]
  },
  {
   "cell_type": "markdown",
   "metadata": {},
   "source": [
    "fullmatch() = compara a string inteira com o padrão\n",
    "\n",
    "search() = busca a primeira ocorrência do padrão na string\n",
    "\n",
    "findall() = busca na string o que seguir o padrão"
   ]
  },
  {
   "cell_type": "markdown",
   "metadata": {},
   "source": [
    "Como validar um CPF:"
   ]
  },
  {
   "cell_type": "code",
   "execution_count": 46,
   "metadata": {},
   "outputs": [
    {
     "name": "stdout",
     "output_type": "stream",
     "text": [
      "CPF Válido\n"
     ]
    }
   ],
   "source": [
    "import re\n",
    "\n",
    "cpf = '123.456.789-10'\n",
    "\n",
    "padrao = re.compile(r'[0-9]{3}\\.[0-9]{3}\\.[0-9]{3}\\-[0-9]{2}')\n",
    "\n",
    "cpf_validado = re.fullmatch(padrao, cpf)\n",
    "\n",
    "if cpf_validado:\n",
    "    print('CPF Válido')\n",
    "else:\n",
    "    print('CPF Inválido')"
   ]
  },
  {
   "cell_type": "markdown",
   "metadata": {},
   "source": [
    "Como validar um email:"
   ]
  },
  {
   "cell_type": "code",
   "execution_count": 49,
   "metadata": {},
   "outputs": [
    {
     "name": "stdout",
     "output_type": "stream",
     "text": [
      "Email Válido\n"
     ]
    }
   ],
   "source": [
    "import re\n",
    "\n",
    "email = 'samuel7@gmail.com.br'\n",
    "\n",
    "padrao = re.compile(r'\\w+@\\w+\\.[a-z]{2,3}\\.[a-z]{2,3}')\n",
    "\n",
    "email_validado = re.fullmatch(padrao, email)\n",
    "\n",
    "if email_validado:\n",
    "    print('Email Válido')\n",
    "else:\n",
    "    print('Email Inválido')"
   ]
  },
  {
   "cell_type": "markdown",
   "metadata": {},
   "source": [
    "Regex para link"
   ]
  },
  {
   "cell_type": "code",
   "execution_count": 3,
   "metadata": {},
   "outputs": [
    {
     "name": "stdout",
     "output_type": "stream",
     "text": [
      "O site do google é: \n"
     ]
    }
   ],
   "source": [
    "import re\n",
    "\n",
    "text = \"O site do google é: https://www.google.com.br\"\n",
    "http = \"https?://\\S+|www.\\.\\S+\"\n",
    "pattern = r\"({})\".format(http)\n",
    "\n",
    "remove_http = re.sub(pattern, '', text)\n",
    "\n",
    "print(remove_http)"
   ]
  }
 ],
 "metadata": {
  "kernelspec": {
   "display_name": "Python 3",
   "language": "python",
   "name": "python3"
  },
  "language_info": {
   "codemirror_mode": {
    "name": "ipython",
    "version": 3
   },
   "file_extension": ".py",
   "mimetype": "text/x-python",
   "name": "python",
   "nbconvert_exporter": "python",
   "pygments_lexer": "ipython3",
   "version": "3.11.5"
  }
 },
 "nbformat": 4,
 "nbformat_minor": 2
}
